{
 "cells": [
  {
   "cell_type": "code",
   "execution_count": 3,
   "metadata": {},
   "outputs": [
    {
     "output_type": "stream",
     "name": "stdout",
     "text": [
      "pip 20.1.1 from /opt/anaconda3/lib/python3.7/site-packages/pip (python 3.7)\n"
     ]
    }
   ],
   "source": [
    "!pip -V"
   ]
  },
  {
   "cell_type": "code",
   "execution_count": 4,
   "metadata": {},
   "outputs": [
    {
     "output_type": "stream",
     "name": "stdout",
     "text": [
      "Name: pandas\nVersion: 1.0.1\nSummary: Powerful data structures for data analysis, time series, and statistics\nHome-page: https://pandas.pydata.org\nAuthor: None\nAuthor-email: None\nLicense: BSD\nLocation: /opt/anaconda3/lib/python3.7/site-packages\nRequires: python-dateutil, numpy, pytz\nRequired-by: statsmodels, seaborn, pandas-datareader\n"
     ]
    }
   ],
   "source": [
    "!pip show pandas "
   ]
  },
  {
   "cell_type": "code",
   "execution_count": 18,
   "metadata": {},
   "outputs": [],
   "source": [
    "number = 5\n",
    "word = \"Medium\"\n",
    "title = \"Jupyter Features\"\n",
    "topics = [\"Jupyter\", \"Data Science\"]"
   ]
  },
  {
   "cell_type": "code",
   "execution_count": 22,
   "metadata": {},
   "outputs": [
    {
     "output_type": "stream",
     "name": "stdout",
     "text": [
      "number\t title\t topics\t word\t \n"
     ]
    }
   ],
   "source": [
    "%who"
   ]
  },
  {
   "cell_type": "code",
   "execution_count": 30,
   "metadata": {},
   "outputs": [
    {
     "output_type": "stream",
     "name": "stdout",
     "text": [
      "Variable   Type    Data/Info\n----------------------------\nnumber     int     5\ntitle      str     Jupyter Features\ntopics     list    n=2\nword       str     Medium\n"
     ]
    }
   ],
   "source": [
    "%whos"
   ]
  },
  {
   "cell_type": "code",
   "execution_count": 31,
   "metadata": {},
   "outputs": [
    {
     "output_type": "stream",
     "name": "stdout",
     "text": [
      "title\t word\t \n"
     ]
    }
   ],
   "source": [
    "%who str"
   ]
  },
  {
   "cell_type": "code",
   "execution_count": 32,
   "metadata": {},
   "outputs": [
    {
     "output_type": "stream",
     "name": "stdout",
     "text": [
      "Variable   Type    Data/Info\n----------------------------\ntitle      str     Jupyter Features\nword       str     Medium\n"
     ]
    }
   ],
   "source": [
    "%whos str"
   ]
  },
  {
   "cell_type": "code",
   "execution_count": 33,
   "metadata": {},
   "outputs": [
    {
     "output_type": "stream",
     "name": "stdout",
     "text": [
      "topics\t \n"
     ]
    }
   ],
   "source": [
    "%who list"
   ]
  },
  {
   "cell_type": "code",
   "execution_count": 34,
   "metadata": {},
   "outputs": [
    {
     "output_type": "stream",
     "name": "stdout",
     "text": [
      "Variable   Type    Data/Info\n----------------------------\ntopics     list    n=2\n"
     ]
    }
   ],
   "source": [
    "%whos list"
   ]
  },
  {
   "cell_type": "code",
   "execution_count": 40,
   "metadata": {},
   "outputs": [
    {
     "output_type": "stream",
     "text": [
      "seaborn.barplot\n",
      "seaborn.boxenplot\n",
      "seaborn.boxplot\n",
      "seaborn.catplot\n",
      "seaborn.countplot\n",
      "seaborn.displot\n",
      "seaborn.distplot\n",
      "seaborn.dogplot\n",
      "seaborn.ecdfplot\n",
      "seaborn.factorplot\n",
      "seaborn.histplot\n",
      "seaborn.jointplot\n",
      "seaborn.kdeplot\n",
      "seaborn.lineplot\n",
      "seaborn.lmplot\n",
      "seaborn.miscplot\n",
      "seaborn.pairplot\n",
      "seaborn.palplot\n",
      "seaborn.pointplot\n",
      "seaborn.regplot\n",
      "seaborn.relplot\n",
      "seaborn.residplot\n",
      "seaborn.rugplot\n",
      "seaborn.scatterplot\n",
      "seaborn.stripplot\n",
      "seaborn.swarmplot\n",
      "seaborn.violinplot"
     ],
     "name": "stdout"
    }
   ],
   "source": [
    "import seaborn\n",
    "?seaborn.*plot"
   ]
  },
  {
   "cell_type": "code",
   "execution_count": 41,
   "metadata": {},
   "outputs": [
    {
     "output_type": "stream",
     "text": [
      "\u001b[0;31mSignature:\u001b[0m\n",
      "\u001b[0mseaborn\u001b[0m\u001b[0;34m.\u001b[0m\u001b[0mrugplot\u001b[0m\u001b[0;34m(\u001b[0m\u001b[0;34m\u001b[0m\n",
      "\u001b[0;34m\u001b[0m    \u001b[0mx\u001b[0m\u001b[0;34m=\u001b[0m\u001b[0;32mNone\u001b[0m\u001b[0;34m,\u001b[0m\u001b[0;34m\u001b[0m\n",
      "\u001b[0;34m\u001b[0m    \u001b[0;34m*\u001b[0m\u001b[0;34m,\u001b[0m\u001b[0;34m\u001b[0m\n",
      "\u001b[0;34m\u001b[0m    \u001b[0mheight\u001b[0m\u001b[0;34m=\u001b[0m\u001b[0;36m0.025\u001b[0m\u001b[0;34m,\u001b[0m\u001b[0;34m\u001b[0m\n",
      "\u001b[0;34m\u001b[0m    \u001b[0maxis\u001b[0m\u001b[0;34m=\u001b[0m\u001b[0;32mNone\u001b[0m\u001b[0;34m,\u001b[0m\u001b[0;34m\u001b[0m\n",
      "\u001b[0;34m\u001b[0m    \u001b[0max\u001b[0m\u001b[0;34m=\u001b[0m\u001b[0;32mNone\u001b[0m\u001b[0;34m,\u001b[0m\u001b[0;34m\u001b[0m\n",
      "\u001b[0;34m\u001b[0m    \u001b[0mdata\u001b[0m\u001b[0;34m=\u001b[0m\u001b[0;32mNone\u001b[0m\u001b[0;34m,\u001b[0m\u001b[0;34m\u001b[0m\n",
      "\u001b[0;34m\u001b[0m    \u001b[0my\u001b[0m\u001b[0;34m=\u001b[0m\u001b[0;32mNone\u001b[0m\u001b[0;34m,\u001b[0m\u001b[0;34m\u001b[0m\n",
      "\u001b[0;34m\u001b[0m    \u001b[0mhue\u001b[0m\u001b[0;34m=\u001b[0m\u001b[0;32mNone\u001b[0m\u001b[0;34m,\u001b[0m\u001b[0;34m\u001b[0m\n",
      "\u001b[0;34m\u001b[0m    \u001b[0mpalette\u001b[0m\u001b[0;34m=\u001b[0m\u001b[0;32mNone\u001b[0m\u001b[0;34m,\u001b[0m\u001b[0;34m\u001b[0m\n",
      "\u001b[0;34m\u001b[0m    \u001b[0mhue_order\u001b[0m\u001b[0;34m=\u001b[0m\u001b[0;32mNone\u001b[0m\u001b[0;34m,\u001b[0m\u001b[0;34m\u001b[0m\n",
      "\u001b[0;34m\u001b[0m    \u001b[0mhue_norm\u001b[0m\u001b[0;34m=\u001b[0m\u001b[0;32mNone\u001b[0m\u001b[0;34m,\u001b[0m\u001b[0;34m\u001b[0m\n",
      "\u001b[0;34m\u001b[0m    \u001b[0mexpand_margins\u001b[0m\u001b[0;34m=\u001b[0m\u001b[0;32mTrue\u001b[0m\u001b[0;34m,\u001b[0m\u001b[0;34m\u001b[0m\n",
      "\u001b[0;34m\u001b[0m    \u001b[0mlegend\u001b[0m\u001b[0;34m=\u001b[0m\u001b[0;32mTrue\u001b[0m\u001b[0;34m,\u001b[0m\u001b[0;34m\u001b[0m\n",
      "\u001b[0;34m\u001b[0m    \u001b[0ma\u001b[0m\u001b[0;34m=\u001b[0m\u001b[0;32mNone\u001b[0m\u001b[0;34m,\u001b[0m\u001b[0;34m\u001b[0m\n",
      "\u001b[0;34m\u001b[0m    \u001b[0;34m**\u001b[0m\u001b[0mkwargs\u001b[0m\u001b[0;34m,\u001b[0m\u001b[0;34m\u001b[0m\n",
      "\u001b[0;34m\u001b[0m\u001b[0;34m)\u001b[0m\u001b[0;34m\u001b[0m\u001b[0;34m\u001b[0m\u001b[0m\n",
      "\u001b[0;31mDocstring:\u001b[0m\n",
      "Plot marginal distributions by drawing ticks along the x and y axes.\n",
      "\n",
      "This function is intended to complement other plots by showing the location\n",
      "of individual observations in an unobstrusive way.\n",
      "\n",
      "Parameters\n",
      "----------\n",
      "x, y : vectors or keys in ``data``\n",
      "    Variables that specify positions on the x and y axes.\n",
      "height : number\n",
      "    Proportion of axes extent covered by each rug element.\n",
      "axis : {\"x\", \"y\"}\n",
      "    Axis to draw the rug on.\n",
      "\n",
      "    .. deprecated:: 0.11.0\n",
      "       specify axis by assigning the ``x`` or ``y`` variables.\n",
      "\n",
      "ax : :class:`matplotlib.axes.Axes`\n",
      "    Pre-existing axes for the plot. Otherwise, call :func:`matplotlib.pyplot.gca`\n",
      "    internally.\n",
      "data : :class:`pandas.DataFrame`, :class:`numpy.ndarray`, mapping, or sequence\n",
      "    Input data structure. Either a long-form collection of vectors that can be\n",
      "    assigned to named variables or a wide-form dataset that will be internally\n",
      "    reshaped.\n",
      "hue : vector or key in ``data``\n",
      "    Semantic variable that is mapped to determine the color of plot elements.\n",
      "palette : string, list, dict, or :class:`matplotlib.colors.Colormap`\n",
      "    Method for choosing the colors to use when mapping the ``hue`` semantic.\n",
      "    String values are passed to :func:`color_palette`. List or dict values\n",
      "    imply categorical mapping, while a colormap object implies numeric mapping.\n",
      "hue_order : vector of strings\n",
      "    Specify the order of processing and plotting for categorical levels of the\n",
      "    ``hue`` semantic.\n",
      "hue_norm : tuple or :class:`matplotlib.colors.Normalize`\n",
      "    Either a pair of values that set the normalization range in data units\n",
      "    or an object that will map from data units into a [0, 1] interval. Usage\n",
      "    implies numeric mapping.\n",
      "expand_margins : bool\n",
      "    If True, increase the axes margins by the height of the rug to avoid\n",
      "    overlap with other elements.\n",
      "legend : bool\n",
      "    If False, do not add a legend for semantic variables.\n",
      "kwargs\n",
      "    Other keyword arguments are passed to\n",
      "    :meth:`matplotlib.collections.LineCollection`\n",
      "\n",
      "Returns\n",
      "-------\n",
      ":class:`matplotlib.axes.Axes`\n",
      "    The matplotlib axes containing the plot.\n",
      "\n",
      "Examples\n",
      "--------\n",
      "\n",
      ".. include:: ../docstrings/rugplot.rst\n",
      "\u001b[0;31mFile:\u001b[0m      ~/.conda/envs/Medium/lib/python3.8/site-packages/seaborn/distributions.py\n",
      "\u001b[0;31mType:\u001b[0m      function\n"
     ],
     "name": "stdout"
    }
   ],
   "source": [
    "?seaborn.rugplot"
   ]
  },
  {
   "cell_type": "code",
   "execution_count": 42,
   "metadata": {},
   "outputs": [
    {
     "output_type": "stream",
     "name": "stdout",
     "text": [
      "Help on function rugplot in module seaborn.distributions:\n\nrugplot(x=None, *, height=0.025, axis=None, ax=None, data=None, y=None, hue=None, palette=None, hue_order=None, hue_norm=None, expand_margins=True, legend=True, a=None, **kwargs)\n    Plot marginal distributions by drawing ticks along the x and y axes.\n    \n    This function is intended to complement other plots by showing the location\n    of individual observations in an unobstrusive way.\n    \n    Parameters\n    ----------\n    x, y : vectors or keys in ``data``\n        Variables that specify positions on the x and y axes.\n    height : number\n        Proportion of axes extent covered by each rug element.\n    axis : {\"x\", \"y\"}\n        Axis to draw the rug on.\n    \n        .. deprecated:: 0.11.0\n           specify axis by assigning the ``x`` or ``y`` variables.\n    \n    ax : :class:`matplotlib.axes.Axes`\n        Pre-existing axes for the plot. Otherwise, call :func:`matplotlib.pyplot.gca`\n        internally.\n    data : :class:`pandas.DataFrame`, :class:`numpy.ndarray`, mapping, or sequence\n        Input data structure. Either a long-form collection of vectors that can be\n        assigned to named variables or a wide-form dataset that will be internally\n        reshaped.\n    hue : vector or key in ``data``\n        Semantic variable that is mapped to determine the color of plot elements.\n    palette : string, list, dict, or :class:`matplotlib.colors.Colormap`\n        Method for choosing the colors to use when mapping the ``hue`` semantic.\n        String values are passed to :func:`color_palette`. List or dict values\n        imply categorical mapping, while a colormap object implies numeric mapping.\n    hue_order : vector of strings\n        Specify the order of processing and plotting for categorical levels of the\n        ``hue`` semantic.\n    hue_norm : tuple or :class:`matplotlib.colors.Normalize`\n        Either a pair of values that set the normalization range in data units\n        or an object that will map from data units into a [0, 1] interval. Usage\n        implies numeric mapping.\n    expand_margins : bool\n        If True, increase the axes margins by the height of the rug to avoid\n        overlap with other elements.\n    legend : bool\n        If False, do not add a legend for semantic variables.\n    kwargs\n        Other keyword arguments are passed to\n        :meth:`matplotlib.collections.LineCollection`\n    \n    Returns\n    -------\n    :class:`matplotlib.axes.Axes`\n        The matplotlib axes containing the plot.\n    \n    Examples\n    --------\n    \n    .. include:: ../docstrings/rugplot.rst\n\n"
     ]
    }
   ],
   "source": [
    "help(seaborn.rugplot)"
   ]
  },
  {
   "cell_type": "code",
   "execution_count": 43,
   "metadata": {},
   "outputs": [
    {
     "output_type": "execute_result",
     "data": {
      "text/plain": [
       "'Medium'"
      ]
     },
     "metadata": {},
     "execution_count": 43
    }
   ],
   "source": [
    "number = 7\n",
    "text = \"Medium\"\n",
    "number\n",
    "text"
   ]
  },
  {
   "cell_type": "code",
   "execution_count": 48,
   "metadata": {},
   "outputs": [],
   "source": [
    "from IPython.core.interactiveshell import InteractiveShell\n",
    "InteractiveShell.ast_node_interactivity = \"all\""
   ]
  },
  {
   "cell_type": "code",
   "execution_count": 49,
   "metadata": {},
   "outputs": [
    {
     "output_type": "execute_result",
     "data": {
      "text/plain": [
       "7"
      ]
     },
     "metadata": {},
     "execution_count": 49
    },
    {
     "output_type": "execute_result",
     "data": {
      "text/plain": [
       "'Medium'"
      ]
     },
     "metadata": {},
     "execution_count": 49
    }
   ],
   "source": [
    "number = 7\n",
    "text = \"Medium\"\n",
    "number\n",
    "text"
   ]
  },
  {
   "cell_type": "code",
   "execution_count": 50,
   "metadata": {},
   "outputs": [],
   "source": [
    "from IPython.core.interactiveshell import InteractiveShell\n",
    "InteractiveShell.ast_node_interactivity = \"last_expr_or_assign\""
   ]
  },
  {
   "cell_type": "code",
   "execution_count": 51,
   "metadata": {},
   "outputs": [
    {
     "output_type": "execute_result",
     "data": {
      "text/plain": [
       "'Medium'"
      ]
     },
     "metadata": {},
     "execution_count": 51
    }
   ],
   "source": [
    "number = 7\n",
    "text = \"Medium\""
   ]
  },
  {
   "cell_type": "code",
   "execution_count": null,
   "metadata": {},
   "outputs": [],
   "source": []
  }
 ],
 "metadata": {
  "kernelspec": {
   "name": "python3",
   "display_name": "Python 3.8.3 64-bit ('Medium': conda)",
   "metadata": {
    "interpreter": {
     "hash": "cfcf1e1e5fd71cfad33f60ece9b7b1a5d52450bd1813b1e874ac54fc84b7d2c2"
    }
   }
  },
  "language_info": {
   "codemirror_mode": {
    "name": "ipython",
    "version": 3
   },
   "file_extension": ".py",
   "mimetype": "text/x-python",
   "name": "python",
   "nbconvert_exporter": "python",
   "pygments_lexer": "ipython3",
   "version": "3.8.3-final"
  }
 },
 "nbformat": 4,
 "nbformat_minor": 4
}