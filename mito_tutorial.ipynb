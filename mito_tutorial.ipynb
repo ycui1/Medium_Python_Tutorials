{
 "cells": [
  {
   "cell_type": "code",
   "execution_count": 3,
   "id": "607c3abd-0a15-4017-820c-26973860b05b",
   "metadata": {},
   "outputs": [
    {
     "data": {
      "application/vnd.jupyter.widget-view+json": {
       "model_id": "d784f8a1650b4ab1bc0e54d424361f21",
       "version_major": 2,
       "version_minor": 0
      },
      "text/plain": [
       "MitoWidget(analysis_name='UUID-a2e015a3-aedc-4ea3-be69-8b7bfefd5c9d', code_json='{\"imports\": \"from mitosheet i…"
      ]
     },
     "metadata": {},
     "output_type": "display_data"
    }
   ],
   "source": [
    "import mitosheet\n",
    "mitosheet.sheet()"
   ]
  },
  {
   "cell_type": "code",
   "execution_count": null,
   "id": "73048156-2219-4136-9a7e-fac0459dba05",
   "metadata": {},
   "outputs": [],
   "source": [
    "# MITO CODE START (DO NOT EDIT)\n",
    "\n",
    "from mitosheet import * # Import necessary functions from Mito\n",
    "register_analysis('UUID-a2e015a3-aedc-4ea3-be69-8b7bfefd5c9d') # Let Mito know which analysis is being run\n",
    "\n",
    "# Imported mpg.csv\n",
    "import pandas as pd\n",
    "mpg_csv = pd.read_csv(r'mpg.csv')\n",
    "\n",
    "# Sorted cylinders in mpg_csv in ascending order\n",
    "mpg_csv = mpg_csv.sort_values(by='cylinders', ascending=True, na_position='first')\n",
    "\n",
    "# Deleted column displacement from mpg_csv\n",
    "mpg_csv.drop('displacement', axis=1, inplace=True)\n",
    "\n",
    "# Pivoted mpg_csv into df2\n",
    "df2 = pd.DataFrame(data={})\n",
    "\n",
    "# Deleted dataframe df2\n",
    "del df2\n",
    "\n",
    "# Pivoted mpg_csv into df2\n",
    "unused_columns = mpg_csv.columns.difference(set(['model_year']).union(set(['origin'])).union(set({'mpg'})))\n",
    "tmp_df = mpg_csv.drop(unused_columns, axis=1)\n",
    "pivot_table = tmp_df.pivot_table(\n",
    "    index=['model_year'],\n",
    "    columns=['origin'],\n",
    "    values=['mpg'],\n",
    "    aggfunc={'mpg': ['mean']}\n",
    ")\n",
    "\n",
    "# Flatten the column headers\n",
    "pivot_table.columns = [flatten_column_header(col) for col in pivot_table.columns.values]\n",
    "\n",
    "# Reset the column name and the indexes\n",
    "df2 = pivot_table.reset_index()\n",
    "\n",
    "# Merged mpg_csv and mpg_csv\n",
    "temp_df = mpg_csv.drop_duplicates(subset='mpg') # Remove duplicates so lookup merge only returns first match\n",
    "df3 = mpg_csv.merge(temp_df, left_on=['mpg'], right_on=['mpg'], how='left', suffixes=['_mpg_csv', '_mpg_csv_2'])\n",
    "\n",
    "# Pivoted mpg_csv into df4\n",
    "df4 = pd.DataFrame(data={})\n",
    "\n",
    "# Deleted dataframe df4\n",
    "del df4\n",
    "\n",
    "# Merged mpg_csv and mpg_csv\n",
    "df4 = mpg_csv.merge(mpg_csv, left_on=['name'], right_on=['name'], how='outer', suffixes=['_mpg_csv', '_mpg_csv_2'])\n",
    "\n",
    "  \n",
    "# MITO CODE END (DO NOT EDIT)"
   ]
  },
  {
   "cell_type": "code",
   "execution_count": null,
   "id": "c338d391-b112-43b8-ac4a-c0d21d998470",
   "metadata": {},
   "outputs": [],
   "source": []
  },
  {
   "cell_type": "code",
   "execution_count": null,
   "id": "5083c081-b847-40a8-aa4d-1495b15a9342",
   "metadata": {},
   "outputs": [],
   "source": []
  },
  {
   "cell_type": "code",
   "execution_count": null,
   "id": "0f810884-7ab1-4dbb-9986-3b8ff37e1b9b",
   "metadata": {},
   "outputs": [],
   "source": []
  },
  {
   "cell_type": "code",
   "execution_count": null,
   "id": "9c4f25f7-515d-4245-96fd-41fef869486c",
   "metadata": {},
   "outputs": [],
   "source": []
  },
  {
   "cell_type": "code",
   "execution_count": null,
   "id": "68fb267e-f349-4510-ac48-0344dd83df7f",
   "metadata": {},
   "outputs": [],
   "source": []
  },
  {
   "cell_type": "code",
   "execution_count": null,
   "id": "9d27ebe4-dc16-4d53-95e4-d4a8dc347e6f",
   "metadata": {},
   "outputs": [],
   "source": []
  }
 ],
 "metadata": {
  "kernelspec": {
   "display_name": "Python 3 (ipykernel)",
   "language": "python",
   "name": "python3"
  },
  "language_info": {
   "codemirror_mode": {
    "name": "ipython",
    "version": 3
   },
   "file_extension": ".py",
   "mimetype": "text/x-python",
   "name": "python",
   "nbconvert_exporter": "python",
   "pygments_lexer": "ipython3",
   "version": "3.9.5"
  }
 },
 "nbformat": 4,
 "nbformat_minor": 5
}
