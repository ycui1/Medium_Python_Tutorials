{
 "cells": [
  {
   "cell_type": "code",
   "execution_count": 2,
   "id": "607c3abd-0a15-4017-820c-26973860b05b",
   "metadata": {},
   "outputs": [
    {
     "data": {
      "application/vnd.jupyter.widget-view+json": {
       "model_id": "7b025181e8234fbb845278cdfb6a9835",
       "version_major": 2,
       "version_minor": 0
      },
      "text/plain": [
       "MitoWidget(analysis_name='UUID-aa2af616-85f6-43f7-a1f4-5e88b2c26165', code_json='{\"imports\": \"from mitosheet i…"
      ]
     },
     "metadata": {},
     "output_type": "display_data"
    }
   ],
   "source": [
    "import mitosheet\n",
    "mitosheet.sheet()"
   ]
  },
  {
   "cell_type": "code",
   "execution_count": null,
   "id": "5083c081-b847-40a8-aa4d-1495b15a9342",
   "metadata": {},
   "outputs": [],
   "source": [
    "# MITO CODE START (DO NOT EDIT)\n",
    "\n",
    "from mitosheet import * # Import necessary functions from Mito\n",
    "register_analysis('UUID-aa2af616-85f6-43f7-a1f4-5e88b2c26165') # Let Mito know which analysis is being run\n",
    "\n",
    "# Imported /Users/ycui1/OneDrive - Inside MD Anderson/Data/Medium_Python_Tutorials/mpg.csv\n",
    "import pandas as pd\n",
    "mpg_csv = pd.read_csv(r'/Users/ycui1/OneDrive - Inside MD Anderson/Data/Medium_Python_Tutorials/mpg.csv')\n",
    "\n",
    "  \n",
    "# MITO CODE END (DO NOT EDIT)"
   ]
  },
  {
   "cell_type": "code",
   "execution_count": null,
   "id": "0f810884-7ab1-4dbb-9986-3b8ff37e1b9b",
   "metadata": {},
   "outputs": [],
   "source": []
  },
  {
   "cell_type": "code",
   "execution_count": null,
   "id": "9c4f25f7-515d-4245-96fd-41fef869486c",
   "metadata": {},
   "outputs": [],
   "source": []
  },
  {
   "cell_type": "code",
   "execution_count": null,
   "id": "68fb267e-f349-4510-ac48-0344dd83df7f",
   "metadata": {},
   "outputs": [],
   "source": []
  },
  {
   "cell_type": "code",
   "execution_count": null,
   "id": "9d27ebe4-dc16-4d53-95e4-d4a8dc347e6f",
   "metadata": {},
   "outputs": [],
   "source": []
  }
 ],
 "metadata": {
  "kernelspec": {
   "display_name": "Python 3 (ipykernel)",
   "language": "python",
   "name": "python3"
  },
  "language_info": {
   "codemirror_mode": {
    "name": "ipython",
    "version": 3
   },
   "file_extension": ".py",
   "mimetype": "text/x-python",
   "name": "python",
   "nbconvert_exporter": "python",
   "pygments_lexer": "ipython3",
   "version": "3.9.5"
  }
 },
 "nbformat": 4,
 "nbformat_minor": 5
}
